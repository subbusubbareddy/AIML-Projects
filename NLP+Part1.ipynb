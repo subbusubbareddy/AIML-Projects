{
 "cells": [
  {
   "cell_type": "code",
   "execution_count": 1,
   "id": "d17421a9",
   "metadata": {},
   "outputs": [],
   "source": [
    "import pandas as pd\n",
    "import numpy as np\n",
    "import scipy as sp\n",
    "import re\n",
    "from sklearn.model_selection import train_test_split\n",
    "from sklearn.feature_extraction.text import CountVectorizer, TfidfVectorizer\n",
    "from sklearn.naive_bayes import MultinomialNB\n",
    "from sklearn.linear_model import LogisticRegression\n",
    "from sklearn.multiclass import OneVsRestClassifier\n",
    "from sklearn.preprocessing import MultiLabelBinarizer\n",
    "from sklearn import metrics\n",
    "from sklearn.metrics import accuracy_score,recall_score,precision_score,f1_score\n",
    "%matplotlib inline\n",
    "import nltk\n",
    "from nltk.corpus import stopwords \n",
    "from collections import Counter\n",
    "\n",
    "import warnings\n",
    "warnings.filterwarnings('ignore')"
   ]
  },
  {
   "cell_type": "code",
   "execution_count": 2,
   "id": "306ce5d8",
   "metadata": {},
   "outputs": [
    {
     "name": "stderr",
     "output_type": "stream",
     "text": [
      "Skipping line 16844: NULL byte detected. This byte cannot be processed in Python's native csv library at the moment, so please pass in engine='c' instead\n",
      "Skipping line 19370: NULL byte detected. This byte cannot be processed in Python's native csv library at the moment, so please pass in engine='c' instead\n",
      "Skipping line 31753: field larger than field limit (131072)\n",
      "Skipping line 33676: NULL byte detected. This byte cannot be processed in Python's native csv library at the moment, so please pass in engine='c' instead\n",
      "Skipping line 65976: NULL byte detected. This byte cannot be processed in Python's native csv library at the moment, so please pass in engine='c' instead\n",
      "Skipping line 105502: unexpected end of data\n"
     ]
    }
   ],
   "source": [
    "df = pd.read_csv('blogtext.csv',error_bad_lines=False, engine=\"python\")"
   ]
  },
  {
   "cell_type": "code",
   "execution_count": 3,
   "id": "105a3980",
   "metadata": {},
   "outputs": [
    {
     "data": {
      "text/html": [
       "<div>\n",
       "<style scoped>\n",
       "    .dataframe tbody tr th:only-of-type {\n",
       "        vertical-align: middle;\n",
       "    }\n",
       "\n",
       "    .dataframe tbody tr th {\n",
       "        vertical-align: top;\n",
       "    }\n",
       "\n",
       "    .dataframe thead th {\n",
       "        text-align: right;\n",
       "    }\n",
       "</style>\n",
       "<table border=\"1\" class=\"dataframe\">\n",
       "  <thead>\n",
       "    <tr style=\"text-align: right;\">\n",
       "      <th></th>\n",
       "      <th>id</th>\n",
       "      <th>gender</th>\n",
       "      <th>age</th>\n",
       "      <th>topic</th>\n",
       "      <th>sign</th>\n",
       "      <th>date</th>\n",
       "      <th>text</th>\n",
       "    </tr>\n",
       "  </thead>\n",
       "  <tbody>\n",
       "    <tr>\n",
       "      <th>0</th>\n",
       "      <td>2059027</td>\n",
       "      <td>male</td>\n",
       "      <td>15</td>\n",
       "      <td>Student</td>\n",
       "      <td>Leo</td>\n",
       "      <td>14,May,2004</td>\n",
       "      <td>Info has been found (+/- 100 pages,...</td>\n",
       "    </tr>\n",
       "    <tr>\n",
       "      <th>1</th>\n",
       "      <td>2059027</td>\n",
       "      <td>male</td>\n",
       "      <td>15</td>\n",
       "      <td>Student</td>\n",
       "      <td>Leo</td>\n",
       "      <td>13,May,2004</td>\n",
       "      <td>These are the team members:   Drewe...</td>\n",
       "    </tr>\n",
       "    <tr>\n",
       "      <th>2</th>\n",
       "      <td>2059027</td>\n",
       "      <td>male</td>\n",
       "      <td>15</td>\n",
       "      <td>Student</td>\n",
       "      <td>Leo</td>\n",
       "      <td>12,May,2004</td>\n",
       "      <td>In het kader van kernfusie op aarde...</td>\n",
       "    </tr>\n",
       "    <tr>\n",
       "      <th>3</th>\n",
       "      <td>2059027</td>\n",
       "      <td>male</td>\n",
       "      <td>15</td>\n",
       "      <td>Student</td>\n",
       "      <td>Leo</td>\n",
       "      <td>12,May,2004</td>\n",
       "      <td>testing!!!  testing!!!</td>\n",
       "    </tr>\n",
       "    <tr>\n",
       "      <th>4</th>\n",
       "      <td>3581210</td>\n",
       "      <td>male</td>\n",
       "      <td>33</td>\n",
       "      <td>InvestmentBanking</td>\n",
       "      <td>Aquarius</td>\n",
       "      <td>11,June,2004</td>\n",
       "      <td>Thanks to Yahoo!'s Toolbar I can ...</td>\n",
       "    </tr>\n",
       "  </tbody>\n",
       "</table>\n",
       "</div>"
      ],
      "text/plain": [
       "        id gender  age              topic      sign          date  \\\n",
       "0  2059027   male   15            Student       Leo   14,May,2004   \n",
       "1  2059027   male   15            Student       Leo   13,May,2004   \n",
       "2  2059027   male   15            Student       Leo   12,May,2004   \n",
       "3  2059027   male   15            Student       Leo   12,May,2004   \n",
       "4  3581210   male   33  InvestmentBanking  Aquarius  11,June,2004   \n",
       "\n",
       "                                                text  \n",
       "0             Info has been found (+/- 100 pages,...  \n",
       "1             These are the team members:   Drewe...  \n",
       "2             In het kader van kernfusie op aarde...  \n",
       "3                   testing!!!  testing!!!            \n",
       "4               Thanks to Yahoo!'s Toolbar I can ...  "
      ]
     },
     "execution_count": 3,
     "metadata": {},
     "output_type": "execute_result"
    }
   ],
   "source": [
    "df.head()"
   ]
  },
  {
   "cell_type": "code",
   "execution_count": 4,
   "id": "40f5e062",
   "metadata": {},
   "outputs": [
    {
     "data": {
      "text/plain": [
       "Index(['id', 'gender', 'age', 'topic', 'sign', 'date', 'text'], dtype='object')"
      ]
     },
     "execution_count": 4,
     "metadata": {},
     "output_type": "execute_result"
    }
   ],
   "source": [
    "df.columns"
   ]
  },
  {
   "cell_type": "code",
   "execution_count": 5,
   "id": "ec9ce018",
   "metadata": {},
   "outputs": [
    {
     "data": {
      "text/plain": [
       "(105495, 7)"
      ]
     },
     "execution_count": 5,
     "metadata": {},
     "output_type": "execute_result"
    }
   ],
   "source": [
    "df.shape"
   ]
  },
  {
   "cell_type": "code",
   "execution_count": 6,
   "id": "9d18ed59",
   "metadata": {},
   "outputs": [
    {
     "data": {
      "text/plain": [
       "738465"
      ]
     },
     "execution_count": 6,
     "metadata": {},
     "output_type": "execute_result"
    }
   ],
   "source": [
    "df.size"
   ]
  },
  {
   "cell_type": "code",
   "execution_count": 7,
   "id": "80956e36",
   "metadata": {},
   "outputs": [
    {
     "data": {
      "text/plain": [
       "id        0\n",
       "gender    0\n",
       "age       0\n",
       "topic     0\n",
       "sign      0\n",
       "date      0\n",
       "text      0\n",
       "dtype: int64"
      ]
     },
     "execution_count": 7,
     "metadata": {},
     "output_type": "execute_result"
    }
   ],
   "source": [
    "df.isnull().sum()"
   ]
  },
  {
   "cell_type": "code",
   "execution_count": 8,
   "id": "6c392c6e",
   "metadata": {},
   "outputs": [],
   "source": [
    "df= df.head(3000)"
   ]
  },
  {
   "cell_type": "markdown",
   "id": "70781d50",
   "metadata": {},
   "source": [
    "# Preprocess text\n",
    "#Preprocess values of text column\n",
    "\n",
    ". Remove unwanted characters\n",
    ". Convert text to lowercase\n",
    ". Remove unwanted spaces\n",
    ". Remove stopwords"
   ]
  },
  {
   "cell_type": "code",
   "execution_count": 9,
   "id": "76a2e3f3",
   "metadata": {},
   "outputs": [],
   "source": [
    "# df.text = df.text.apply(lambda x: re.sub('[^A-Za-z]+','',x))\n",
    "# Convert text to lowercase\n",
    "df.text = df.text.apply(lambda x: x.lower())\n",
    "# Strip unwanted spaces\n",
    "df.text = df.text.apply(lambda x: x.strip())\n",
    "# Remove stopwords\n",
    "from nltk.corpus import stopwords\n",
    "stopwords = set(stopwords.words('english'))\n",
    "df.text = df.text.apply(lambda x: ''.join([word for word in x.split() if word not in stopwords]))"
   ]
  },
  {
   "cell_type": "code",
   "execution_count": 10,
   "id": "41e26c29",
   "metadata": {},
   "outputs": [
    {
     "name": "stderr",
     "output_type": "stream",
     "text": [
      "[nltk_data] Downloading package stopwords to C:\\Users\\venkata\n",
      "[nltk_data]     subbareddy\\AppData\\Roaming\\nltk_data...\n",
      "[nltk_data]   Package stopwords is already up-to-date!\n"
     ]
    },
    {
     "data": {
      "text/plain": [
       "True"
      ]
     },
     "execution_count": 10,
     "metadata": {},
     "output_type": "execute_result"
    }
   ],
   "source": [
    "nltk.download('stopwords')"
   ]
  },
  {
   "cell_type": "code",
   "execution_count": 11,
   "id": "2e9a1ecb",
   "metadata": {},
   "outputs": [
    {
     "data": {
      "text/plain": [
       "\"somehowcoca-colawaysummingthingswell.early1970sflagshipjingle'i'dlikebuyworldcoke'(totune'i'dliketeachworldsing')prettymuchsummedpost-woodstockerawell.addmuchsales,catchytune.koreacoke'sthemeurllinkstopthinking.feelit.prettymuchsumslotkoreakoreans.(lookrelaxedcoupleis,stoppedthinkingstartedfeeling.)coursehighregardeducationmathlogicsuch,deepthinkmanykoreansreallylikeworkemotionanythingelse.westernersseemsublimatemoreso,leastdisplaydifferentway.maybescratchthat...westernerskoreansprobablyprettysimilar,contextdifferent.anyways,thinklosingkorearepeat'stopthinking,feelit.stopthinking,feelit.stopthinking,feelit.'everythingalright.\""
      ]
     },
     "execution_count": 11,
     "metadata": {},
     "output_type": "execute_result"
    }
   ],
   "source": [
    "df.text[6]"
   ]
  },
  {
   "cell_type": "markdown",
   "id": "3c988f61",
   "metadata": {},
   "source": [
    "# Merge the label coulmns"
   ]
  },
  {
   "cell_type": "markdown",
   "id": "19978dba",
   "metadata": {},
   "source": [
    "Merge all the label columns together, so that we have all the tags together for a particular sentence"
   ]
  },
  {
   "cell_type": "code",
   "execution_count": 12,
   "id": "cadfd423",
   "metadata": {},
   "outputs": [],
   "source": [
    "df['labels'] = df.apply(lambda row: [row['gender'], str(row['age']), row['topic'],row['sign']], axis =1)"
   ]
  },
  {
   "cell_type": "code",
   "execution_count": 13,
   "id": "c4c89c25",
   "metadata": {},
   "outputs": [],
   "source": [
    "df = df[['text','labels']]"
   ]
  },
  {
   "cell_type": "code",
   "execution_count": 14,
   "id": "25ca330d",
   "metadata": {},
   "outputs": [
    {
     "data": {
      "text/html": [
       "<div>\n",
       "<style scoped>\n",
       "    .dataframe tbody tr th:only-of-type {\n",
       "        vertical-align: middle;\n",
       "    }\n",
       "\n",
       "    .dataframe tbody tr th {\n",
       "        vertical-align: top;\n",
       "    }\n",
       "\n",
       "    .dataframe thead th {\n",
       "        text-align: right;\n",
       "    }\n",
       "</style>\n",
       "<table border=\"1\" class=\"dataframe\">\n",
       "  <thead>\n",
       "    <tr style=\"text-align: right;\">\n",
       "      <th></th>\n",
       "      <th>text</th>\n",
       "      <th>labels</th>\n",
       "    </tr>\n",
       "  </thead>\n",
       "  <tbody>\n",
       "    <tr>\n",
       "      <th>0</th>\n",
       "      <td>infofound(+/-100pages,4.5mb.pdffiles)waituntil...</td>\n",
       "      <td>[male, 15, Student, Leo]</td>\n",
       "    </tr>\n",
       "    <tr>\n",
       "      <th>1</th>\n",
       "      <td>teammembers:drewesvanderlaagurllinkmailruiyuxi...</td>\n",
       "      <td>[male, 15, Student, Leo]</td>\n",
       "    </tr>\n",
       "    <tr>\n",
       "      <th>2</th>\n",
       "      <td>hetkadervankernfusieopaarde:maakjeeigenwaterst...</td>\n",
       "      <td>[male, 15, Student, Leo]</td>\n",
       "    </tr>\n",
       "    <tr>\n",
       "      <th>3</th>\n",
       "      <td>testing!!!testing!!!</td>\n",
       "      <td>[male, 15, Student, Leo]</td>\n",
       "    </tr>\n",
       "    <tr>\n",
       "      <th>4</th>\n",
       "      <td>thanksyahoo!'stoolbar'capture'urlspopups...whi...</td>\n",
       "      <td>[male, 33, InvestmentBanking, Aquarius]</td>\n",
       "    </tr>\n",
       "  </tbody>\n",
       "</table>\n",
       "</div>"
      ],
      "text/plain": [
       "                                                text  \\\n",
       "0  infofound(+/-100pages,4.5mb.pdffiles)waituntil...   \n",
       "1  teammembers:drewesvanderlaagurllinkmailruiyuxi...   \n",
       "2  hetkadervankernfusieopaarde:maakjeeigenwaterst...   \n",
       "3                               testing!!!testing!!!   \n",
       "4  thanksyahoo!'stoolbar'capture'urlspopups...whi...   \n",
       "\n",
       "                                    labels  \n",
       "0                 [male, 15, Student, Leo]  \n",
       "1                 [male, 15, Student, Leo]  \n",
       "2                 [male, 15, Student, Leo]  \n",
       "3                 [male, 15, Student, Leo]  \n",
       "4  [male, 33, InvestmentBanking, Aquarius]  "
      ]
     },
     "execution_count": 14,
     "metadata": {},
     "output_type": "execute_result"
    }
   ],
   "source": [
    "df.head()"
   ]
  },
  {
   "cell_type": "markdown",
   "id": "1f41e7a5",
   "metadata": {},
   "source": [
    "# Create training and testing data"
   ]
  },
  {
   "cell_type": "code",
   "execution_count": 15,
   "id": "44f2fba9",
   "metadata": {},
   "outputs": [],
   "source": [
    "from sklearn.model_selection import train_test_split\n",
    "X_train, X_test,y_train,y_test = train_test_split(df.text.values, df.labels.values, test_size=0.20, random_state = 42)"
   ]
  },
  {
   "cell_type": "markdown",
   "id": "d63b0db0",
   "metadata": {},
   "source": [
    "# Vectorize the data"
   ]
  },
  {
   "cell_type": "markdown",
   "id": "0df58527",
   "metadata": {},
   "source": [
    "# Create Bag of Words¶"
   ]
  },
  {
   "cell_type": "markdown",
   "id": "fc3dabd0",
   "metadata": {},
   "source": [
    ". Use CountVectorizer\n",
    ". Transform the traing and testing data"
   ]
  },
  {
   "cell_type": "code",
   "execution_count": 16,
   "id": "5d886148",
   "metadata": {},
   "outputs": [],
   "source": [
    "from sklearn.feature_extraction.text import CountVectorizer\n",
    "\n",
    "vectorizer = CountVectorizer(binary=True, ngram_range=(1, 2))\n",
    "X_train_bow = vectorizer.fit_transform(X_train)\n",
    "X_test_bow = vectorizer.transform(X_test)"
   ]
  },
  {
   "cell_type": "code",
   "execution_count": 17,
   "id": "9ea8b642",
   "metadata": {},
   "outputs": [
    {
     "data": {
      "text/plain": [
       "['00', '00 10', '00 11', '00 30', '00 31pm']"
      ]
     },
     "execution_count": 17,
     "metadata": {},
     "output_type": "execute_result"
    }
   ],
   "source": [
    "vectorizer.get_feature_names()[:5]"
   ]
  },
  {
   "cell_type": "code",
   "execution_count": 18,
   "id": "0f730a3e",
   "metadata": {},
   "outputs": [
    {
     "data": {
      "text/plain": [
       "array([[0, 0, 0, ..., 0, 0, 0],\n",
       "       [0, 0, 0, ..., 0, 0, 0],\n",
       "       [0, 0, 0, ..., 0, 0, 0],\n",
       "       ...,\n",
       "       [0, 0, 0, ..., 0, 0, 0],\n",
       "       [0, 0, 0, ..., 0, 0, 0],\n",
       "       [0, 0, 0, ..., 0, 0, 0]], dtype=int64)"
      ]
     },
     "execution_count": 18,
     "metadata": {},
     "output_type": "execute_result"
    }
   ],
   "source": [
    "X_train_bow.toarray()"
   ]
  },
  {
   "cell_type": "markdown",
   "id": "33f90e47",
   "metadata": {},
   "source": [
    "# Create a dictionary to get label counts"
   ]
  },
  {
   "cell_type": "code",
   "execution_count": 19,
   "id": "27b9d607",
   "metadata": {},
   "outputs": [],
   "source": [
    "label_counts = dict()\n",
    "\n",
    "for labels in df.labels.values:\n",
    "    for label in labels:\n",
    "        if label in label_counts:\n",
    "            label_counts[label] += 1\n",
    "        else:\n",
    "            label_counts[label] = 1"
   ]
  },
  {
   "cell_type": "code",
   "execution_count": 20,
   "id": "35885060",
   "metadata": {},
   "outputs": [
    {
     "data": {
      "text/plain": [
       "{'male': 2272,\n",
       " '15': 299,\n",
       " 'Student': 403,\n",
       " 'Leo': 55,\n",
       " '33': 94,\n",
       " 'InvestmentBanking': 70,\n",
       " 'Aquarius': 286,\n",
       " 'female': 728,\n",
       " '14': 74,\n",
       " 'indUnk': 452,\n",
       " 'Aries': 1699,\n",
       " '25': 110,\n",
       " 'Capricorn': 77,\n",
       " '17': 147,\n",
       " 'Gemini': 21,\n",
       " '23': 93,\n",
       " 'Non-Profit': 46,\n",
       " 'Cancer': 76,\n",
       " 'Banking': 16,\n",
       " '37': 19,\n",
       " 'Sagittarius': 113,\n",
       " '26': 43,\n",
       " '24': 334,\n",
       " 'Scorpio': 243,\n",
       " '27': 86,\n",
       " 'Education': 118,\n",
       " '45': 14,\n",
       " 'Engineering': 119,\n",
       " 'Libra': 313,\n",
       " 'Science': 33,\n",
       " '34': 6,\n",
       " '41': 14,\n",
       " 'Communications-Media': 14,\n",
       " 'BusinessServices': 21,\n",
       " 'Sports-Recreation': 75,\n",
       " 'Virgo': 39,\n",
       " 'Taurus': 76,\n",
       " 'Arts': 2,\n",
       " 'Pisces': 2,\n",
       " '44': 3,\n",
       " '16': 25,\n",
       " 'Internet': 20,\n",
       " 'Museums-Libraries': 2,\n",
       " 'Accounting': 2,\n",
       " '39': 32,\n",
       " '35': 1607,\n",
       " 'Technology': 1607}"
      ]
     },
     "execution_count": 20,
     "metadata": {},
     "output_type": "execute_result"
    }
   ],
   "source": [
    "label_counts"
   ]
  },
  {
   "cell_type": "markdown",
   "id": "f50dab13",
   "metadata": {},
   "source": [
    "# Multi label binarizer\n",
    "Load a multilabel binarizer and fit it on the labels."
   ]
  },
  {
   "cell_type": "code",
   "execution_count": 21,
   "id": "dc53f157",
   "metadata": {},
   "outputs": [],
   "source": [
    "from sklearn.preprocessing import MultiLabelBinarizer\n",
    "\n",
    "mlb = MultiLabelBinarizer(classes=sorted(label_counts.keys()))\n",
    "y_train = mlb.fit_transform(y_train)\n",
    "y_test = mlb.transform(y_test)"
   ]
  },
  {
   "cell_type": "code",
   "execution_count": 22,
   "id": "038e4eca",
   "metadata": {},
   "outputs": [],
   "source": [
    "from sklearn.multiclass import OneVsRestClassifier\n",
    "from sklearn.linear_model import LogisticRegression\n",
    "\n",
    "clf = LogisticRegression(solver='lbfgs')\n",
    "clf = OneVsRestClassifier(clf)"
   ]
  },
  {
   "cell_type": "code",
   "execution_count": 23,
   "id": "c40fc188",
   "metadata": {},
   "outputs": [
    {
     "data": {
      "text/plain": [
       "OneVsRestClassifier(estimator=LogisticRegression())"
      ]
     },
     "execution_count": 23,
     "metadata": {},
     "output_type": "execute_result"
    }
   ],
   "source": [
    "clf.fit(X_train_bow, y_train)"
   ]
  },
  {
   "cell_type": "markdown",
   "id": "4e686eab",
   "metadata": {},
   "source": [
    "# Make predictions\n",
    "Get predicted labels and scores"
   ]
  },
  {
   "cell_type": "code",
   "execution_count": 24,
   "id": "b64c8f94",
   "metadata": {},
   "outputs": [],
   "source": [
    "predicted_labels = clf.predict(X_test_bow)\n",
    "predicted_scores = clf.decision_function(X_test_bow)"
   ]
  },
  {
   "cell_type": "code",
   "execution_count": 25,
   "id": "79c105c9",
   "metadata": {},
   "outputs": [],
   "source": [
    "pred_inversed = mlb.inverse_transform(predicted_labels)\n",
    "y_test_inversed = mlb.inverse_transform(y_test)"
   ]
  },
  {
   "cell_type": "code",
   "execution_count": 26,
   "id": "25d85257",
   "metadata": {},
   "outputs": [
    {
     "name": "stdout",
     "output_type": "stream",
     "text": [
      "Title:\tpink'salreadydone,surephoenix,tho'.\n",
      "True labels:\t35,Aries,Technology,male\n",
      "Predicted labels:\t35,Aries,Technology,male\n",
      "\n",
      "\n",
      "Title:\twoohoo-she'lltomorrow!-probablymeansneedcleanplacebit-uhoh:(sincejen'sgoinggetcarwe'llableleastgrabfurnitureshe'llsomewheresit-timedperfectlypoolopeningweekend.i'mslavingawaywork,liepoolfightcicadas:)gothdtvcablehookup-unfortunatelyon-demandfunctionseemsbrokenmeantime,getearlytodaysomeonecomelookit.brightersidethingstechiemanagedblagtwo1udualpiii866machinesfree,i'llswapmobo'sreasonablecasehookhome-ideai'lluseyeti'mbettingthey'llmunchsetiunitsmeantimefigureout.....onelastthing-hellaltgrbuttonuskeyboards?-annoystypealt+0128euro(€)symbolremembercodeaccentedeetc.knowcouldchangekeymapukwhatever-altgroptionsomething?*endrant*\n",
      "True labels:\t25,Aries,Internet,male\n",
      "Predicted labels:\t35,Aries,Technology,male\n",
      "\n",
      "\n",
      "Title:\tactually,johnathan,me.calledlatelastnightsoundinggroggythankingsomething.couldbarelymakeinnanebabble,wonderingsayinghopedi'dguessname...\n",
      "True labels:\t35,Aries,Technology,male\n",
      "Predicted labels:\t35,Aries,Technology,male\n",
      "\n",
      "\n",
      "Title:\tyesterdaydrivingsomewheremongoliacrossedmind.realizedknewnothingcountry.vaguenotiononepointhistorymongolhordessweptacrosslandkillingbunchpeoplestuff,gotbeatbackbecomehermits?lasttimerememberanythinghappeneingthere,anythingworld?never.mongoliastartedthinkingportugal.neverhearanythingportugaleither.understandmongolia,wayhellwaynearsiberia.mayevenpartrussiachinadays.portugal,manthey'rerightedgeeurope.neverhearanything,meananythingportugal.remembertalkingwwiischool.leranedspainneutralwar,knewprettymucheveryeuropeancountrystood,everyoneasideportugal.happenedthem,vanishageexploration....hasanyonebotheredcheck!!!sincei'mobviouslyinternetrightknowcouldreadplaces,wouldeasy.thinktimet.v.startedinforminguscountriesreallytalkalready.needhearmongolia,portugal,estonia,othersknownameneverhearthem.stopgeographicalelitism.\n",
      "True labels:\t26,Leo,indUnk,male\n",
      "Predicted labels:\t35,Aries,Technology,male\n",
      "\n",
      "\n",
      "Title:\t*inhale*ohjesushchristadogwithacrayonsignaroundhisneckgoingofftokillsarahconnorohdeargodthatsafunnyimage*ehxhale*\n",
      "True labels:\t35,Aries,Technology,male\n",
      "Predicted labels:\t35,Aries,Technology,male\n",
      "\n",
      "\n"
     ]
    }
   ],
   "source": [
    "for i in range(5):\n",
    "    print('Title:\\t{}\\nTrue labels:\\t{}\\nPredicted labels:\\t{}\\n\\n'.format(\n",
    "        X_test[i],\n",
    "        ','.join(y_test_inversed[i]),\n",
    "        ','.join(pred_inversed[i])\n",
    "    ))"
   ]
  },
  {
   "cell_type": "markdown",
   "id": "ab3c142f",
   "metadata": {},
   "source": [
    "# Calculate accuracy\n",
    ". Accuracy\n",
    ". F1-score\n",
    ". Precision\n",
    ". Recall"
   ]
  },
  {
   "cell_type": "code",
   "execution_count": 27,
   "id": "0af94ba9",
   "metadata": {},
   "outputs": [],
   "source": [
    "from sklearn.metrics import accuracy_score\n",
    "from sklearn.metrics import f1_score\n",
    "from sklearn.metrics import average_precision_score\n",
    "from sklearn.metrics import recall_score\n",
    "\n",
    "def print_evaluation_scores(y_val, predicted):\n",
    "    print('Accuracy score: ', accuracy_score(y_val, predicted))\n",
    "    print('F1 score: ', f1_score(y_val, predicted, average='micro'))\n",
    "    print('Average precision score: ', average_precision_score(y_val, predicted, average='micro'))\n",
    "    print('Average recall score: ', recall_score(y_val, predicted, average='micro'))"
   ]
  },
  {
   "cell_type": "code",
   "execution_count": 28,
   "id": "f3a96642",
   "metadata": {},
   "outputs": [
    {
     "name": "stdout",
     "output_type": "stream",
     "text": [
      "Bag-of-words\n",
      "Accuracy score:  0.49166666666666664\n",
      "F1 score:  0.6270417422867514\n",
      "Average precision score:  0.43241486182927863\n",
      "Average recall score:  0.5758333333333333\n"
     ]
    }
   ],
   "source": [
    "print('Bag-of-words')\n",
    "print_evaluation_scores(y_test, predicted_labels)"
   ]
  },
  {
   "cell_type": "code",
   "execution_count": null,
   "id": "55c6b68f",
   "metadata": {},
   "outputs": [],
   "source": []
  }
 ],
 "metadata": {
  "kernelspec": {
   "display_name": "Python 3",
   "language": "python",
   "name": "python3"
  },
  "language_info": {
   "codemirror_mode": {
    "name": "ipython",
    "version": 3
   },
   "file_extension": ".py",
   "mimetype": "text/x-python",
   "name": "python",
   "nbconvert_exporter": "python",
   "pygments_lexer": "ipython3",
   "version": "3.8.8"
  }
 },
 "nbformat": 4,
 "nbformat_minor": 5
}
